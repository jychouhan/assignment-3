{
 "cells": [
  {
   "cell_type": "code",
   "execution_count": 1,
   "id": "1bc20c25-07f9-496f-a2ff-6ce53d7fc0e3",
   "metadata": {},
   "outputs": [],
   "source": [
    "# Answer 1"
   ]
  },
  {
   "cell_type": "code",
   "execution_count": 2,
   "id": "c295b3e3-690c-4c36-a00a-576a11f45205",
   "metadata": {},
   "outputs": [],
   "source": [
    "# \"def\" keyword is used to create a function."
   ]
  },
  {
   "cell_type": "code",
   "execution_count": 3,
   "id": "d61e31c8-b225-4ab0-b442-022d59ea12fd",
   "metadata": {},
   "outputs": [],
   "source": [
    "def odd_number(x, y):\n",
    "    \"\"\" this function will return odd numbers\"\"\"\n",
    "    l = []\n",
    "    for i in list(range(x, y)):\n",
    "        if i % 2 != 0:\n",
    "            l.append(i)\n",
    "    return l"
   ]
  },
  {
   "cell_type": "code",
   "execution_count": 4,
   "id": "3e9198ff-6216-435e-af07-689b37b6630a",
   "metadata": {},
   "outputs": [
    {
     "data": {
      "text/plain": [
       "[1, 3, 5, 7, 9, 11, 13, 15, 17, 19, 21, 23, 25]"
      ]
     },
     "execution_count": 4,
     "metadata": {},
     "output_type": "execute_result"
    }
   ],
   "source": [
    "odd_number(1,26)"
   ]
  },
  {
   "cell_type": "code",
   "execution_count": 5,
   "id": "a5e53944-5a9e-43e8-950f-a54c70338f93",
   "metadata": {},
   "outputs": [],
   "source": [
    "# Answer 2"
   ]
  },
  {
   "cell_type": "code",
   "execution_count": 6,
   "id": "82fe1cfb-39fd-4738-8be1-e1e17c98d2e7",
   "metadata": {},
   "outputs": [],
   "source": [
    "# *args allows us to pass the variable number of non-keyword arguments to functions whereas **kwargs allows us to pass any number of keyword arguments."
   ]
  },
  {
   "cell_type": "code",
   "execution_count": 7,
   "id": "4e8491ab-8402-4a51-81d3-925f9f7efdf3",
   "metadata": {},
   "outputs": [],
   "source": [
    "def args_check(*args):\n",
    "    print(args)"
   ]
  },
  {
   "cell_type": "code",
   "execution_count": 8,
   "id": "1275948c-a8ee-4905-bc50-70a893cec477",
   "metadata": {},
   "outputs": [
    {
     "name": "stdout",
     "output_type": "stream",
     "text": [
      "('hello', 1, 2, 3, 4, 5, True, 98.56, False, 'kritika')\n"
     ]
    }
   ],
   "source": [
    "args_check(\"hello\",1,2,3,4,5,True,98.56,False,\"kritika\")"
   ]
  },
  {
   "cell_type": "code",
   "execution_count": 9,
   "id": "4d07fabd-fc97-4866-99f3-33733cca3211",
   "metadata": {},
   "outputs": [],
   "source": [
    "def kwargs_check(**kwargs):\n",
    "    print(kwargs)"
   ]
  },
  {
   "cell_type": "code",
   "execution_count": 10,
   "id": "1db87d17-e449-47bb-b64f-d2bc49da70e7",
   "metadata": {},
   "outputs": [
    {
     "name": "stdout",
     "output_type": "stream",
     "text": [
      "{'name': ['kavita', 'monika', 'priyanka'], 'roll_no': [101, 102, 103], 'address': ['jaipur', 'kota', 'alwar']}\n"
     ]
    }
   ],
   "source": [
    "kwargs_check(name = [\"kavita\", \"monika\",\"priyanka\"], roll_no = [101,102,103], address = [\"jaipur\", \"kota\", \"alwar\"])"
   ]
  },
  {
   "cell_type": "code",
   "execution_count": 11,
   "id": "f086857c-9b4c-478d-b063-ed2f56249a55",
   "metadata": {},
   "outputs": [],
   "source": [
    "# Answer 3"
   ]
  },
  {
   "cell_type": "code",
   "execution_count": 12,
   "id": "4af31bd6-d916-4b56-b60c-4bdb03f0e327",
   "metadata": {},
   "outputs": [],
   "source": [
    "# An iterator is an object that allows to iterate over collection of data such as lists, tuples, dictionaries and sets. Python iterators object is initialized using the \"iter()\" method and it uses the \"next()\" method  for iteration."
   ]
  },
  {
   "cell_type": "code",
   "execution_count": 13,
   "id": "dfa3433a-8d76-484e-ba20-58c15f83c97d",
   "metadata": {},
   "outputs": [],
   "source": [
    "l1 = [2,4,6,8,10,12,14,16,18,20]"
   ]
  },
  {
   "cell_type": "code",
   "execution_count": 14,
   "id": "c320b760-7801-4e89-9d72-b01a2857042b",
   "metadata": {},
   "outputs": [],
   "source": [
    "def first_5_elements(n):\n",
    "    \"\"\"this function will return first five elements\"\"\"\n",
    "    for i in range(5):\n",
    "        print(n[i])"
   ]
  },
  {
   "cell_type": "code",
   "execution_count": 15,
   "id": "3acaf3e7-94bb-47b9-8b48-bfa43525874a",
   "metadata": {},
   "outputs": [
    {
     "name": "stdout",
     "output_type": "stream",
     "text": [
      "2\n",
      "4\n",
      "6\n",
      "8\n",
      "10\n"
     ]
    }
   ],
   "source": [
    "first_5_elements(l1)"
   ]
  },
  {
   "cell_type": "code",
   "execution_count": 16,
   "id": "a3d13113-4432-479b-afe7-33f0e5fcce52",
   "metadata": {},
   "outputs": [],
   "source": [
    "# Answer 4"
   ]
  },
  {
   "cell_type": "code",
   "execution_count": 17,
   "id": "8e42a185-e3b8-4df8-a73d-0e3f63a9fb3b",
   "metadata": {},
   "outputs": [],
   "source": [
    "# A generator function is a special type of a function which does not return a single value, instead, it returns an iterator object with a sequence of values and it is memory efficient. Yield keyword is used to create a generator function. "
   ]
  },
  {
   "cell_type": "code",
   "execution_count": 18,
   "id": "f7288e0b-fb43-4c83-bdc4-40cdf4eb1b49",
   "metadata": {},
   "outputs": [],
   "source": [
    "def Count_check(n):\n",
    "    count = 1\n",
    "    while count <= n:\n",
    "        yield count\n",
    "        count = count + 1\n"
   ]
  },
  {
   "cell_type": "code",
   "execution_count": 19,
   "id": "af6756e9-4997-4536-899c-f9a218d1c66f",
   "metadata": {},
   "outputs": [],
   "source": [
    "count_chk = Count_check(5)"
   ]
  },
  {
   "cell_type": "code",
   "execution_count": 20,
   "id": "cb11d51d-9f75-466a-ac64-fbe6fa0f26f2",
   "metadata": {},
   "outputs": [
    {
     "name": "stdout",
     "output_type": "stream",
     "text": [
      "1\n",
      "2\n",
      "3\n",
      "4\n",
      "5\n"
     ]
    }
   ],
   "source": [
    "for i in count_chk:\n",
    "    print(i)"
   ]
  },
  {
   "cell_type": "code",
   "execution_count": 21,
   "id": "5a462404-bf1e-482e-a866-d6d8bfdd3a98",
   "metadata": {},
   "outputs": [],
   "source": [
    "# Answer 5"
   ]
  },
  {
   "cell_type": "code",
   "execution_count": 22,
   "id": "e6357b6d-1237-4a80-84b6-b69cb1ec30bb",
   "metadata": {},
   "outputs": [],
   "source": [
    "def prime_generator_num():\n",
    "    primes = []\n",
    "    num = 2\n",
    "    while True:\n",
    "        if all (num % prime != 0 for prime in primes):\n",
    "            primes.append(num)\n",
    "            yield num\n",
    "        num += 1\n",
    "        if num >= 1000:\n",
    "            break"
   ]
  },
  {
   "cell_type": "code",
   "execution_count": 23,
   "id": "9afd8a01-4246-4389-9dfe-3c72d3122dfa",
   "metadata": {},
   "outputs": [],
   "source": [
    "prime_num = prime_generator_num()"
   ]
  },
  {
   "cell_type": "code",
   "execution_count": 24,
   "id": "e37773ec-8ea0-4e39-bf9c-22bceb15b2dc",
   "metadata": {},
   "outputs": [
    {
     "name": "stdout",
     "output_type": "stream",
     "text": [
      "2\n",
      "3\n",
      "5\n",
      "7\n",
      "11\n",
      "13\n",
      "17\n",
      "19\n",
      "23\n",
      "29\n",
      "31\n",
      "37\n",
      "41\n",
      "43\n",
      "47\n",
      "53\n",
      "59\n",
      "61\n",
      "67\n",
      "71\n"
     ]
    }
   ],
   "source": [
    "for _ in range(20):\n",
    "    prime = next(prime_num)\n",
    "    print(prime)"
   ]
  },
  {
   "cell_type": "code",
   "execution_count": 25,
   "id": "0ea67cc3-a744-4fe8-8115-db50fe4f5322",
   "metadata": {},
   "outputs": [],
   "source": [
    "# Answer 6"
   ]
  },
  {
   "cell_type": "code",
   "execution_count": 26,
   "id": "a4983ff8-1df6-4057-b1d2-6d616befb03d",
   "metadata": {},
   "outputs": [],
   "source": [
    "def fib_number():\n",
    "    a,b = 0,1\n",
    "    while True:\n",
    "        yield a\n",
    "        a, b = b, a+b\n"
   ]
  },
  {
   "cell_type": "code",
   "execution_count": 27,
   "id": "bf036507-03bc-412a-98e8-ab7c4f0e50fb",
   "metadata": {},
   "outputs": [],
   "source": [
    "f_n = fib_number()"
   ]
  },
  {
   "cell_type": "code",
   "execution_count": 28,
   "id": "e00be571-b9b4-489e-aaed-234df583daa3",
   "metadata": {},
   "outputs": [
    {
     "name": "stdout",
     "output_type": "stream",
     "text": [
      "0\n",
      "1\n",
      "1\n",
      "2\n",
      "3\n",
      "5\n",
      "8\n",
      "13\n",
      "21\n",
      "34\n"
     ]
    }
   ],
   "source": [
    "for i in range(10):\n",
    "    print (next(f_n))\n"
   ]
  },
  {
   "cell_type": "code",
   "execution_count": 29,
   "id": "bd907c32-5a5b-41eb-8b17-340cdc097e1c",
   "metadata": {},
   "outputs": [],
   "source": [
    "# Answer 7"
   ]
  },
  {
   "cell_type": "code",
   "execution_count": 30,
   "id": "d6f266c0-06c3-4c4d-9aad-c8948f6ccc9c",
   "metadata": {},
   "outputs": [],
   "source": [
    "PW = \"pwskills\""
   ]
  },
  {
   "cell_type": "code",
   "execution_count": 31,
   "id": "56fb093c-657a-4cc3-b556-824079478e84",
   "metadata": {},
   "outputs": [],
   "source": [
    "pw = iter(PW)"
   ]
  },
  {
   "cell_type": "code",
   "execution_count": 32,
   "id": "58e021bc-b051-499f-b5e7-582691c7d33b",
   "metadata": {},
   "outputs": [],
   "source": [
    "def p_w():\n",
    "    l3 = []\n",
    "    for i in PW:\n",
    "        l3.append(i)\n",
    "    return l3"
   ]
  },
  {
   "cell_type": "code",
   "execution_count": 33,
   "id": "13ce2eb9-6643-433a-b0db-2112c6285486",
   "metadata": {},
   "outputs": [
    {
     "data": {
      "text/plain": [
       "['p', 'w', 's', 'k', 'i', 'l', 'l', 's']"
      ]
     },
     "execution_count": 33,
     "metadata": {},
     "output_type": "execute_result"
    }
   ],
   "source": [
    "p_w()"
   ]
  },
  {
   "cell_type": "code",
   "execution_count": 34,
   "id": "d4f8d4d6-47cb-4da2-9dbf-01feb892944f",
   "metadata": {},
   "outputs": [
    {
     "data": {
      "text/plain": [
       "'p'"
      ]
     },
     "execution_count": 34,
     "metadata": {},
     "output_type": "execute_result"
    }
   ],
   "source": [
    "next(pw)"
   ]
  },
  {
   "cell_type": "code",
   "execution_count": 35,
   "id": "3954b93f-bf8d-44cd-a1af-490622424904",
   "metadata": {},
   "outputs": [
    {
     "data": {
      "text/plain": [
       "'w'"
      ]
     },
     "execution_count": 35,
     "metadata": {},
     "output_type": "execute_result"
    }
   ],
   "source": [
    "next(pw)"
   ]
  },
  {
   "cell_type": "code",
   "execution_count": 36,
   "id": "8ee6b60b-bf19-4982-88e9-3e2c0cbfc920",
   "metadata": {},
   "outputs": [
    {
     "data": {
      "text/plain": [
       "'s'"
      ]
     },
     "execution_count": 36,
     "metadata": {},
     "output_type": "execute_result"
    }
   ],
   "source": [
    "next(pw)"
   ]
  },
  {
   "cell_type": "code",
   "execution_count": 37,
   "id": "91c4d7b5-2a90-47fe-a361-08e8951047b9",
   "metadata": {},
   "outputs": [
    {
     "data": {
      "text/plain": [
       "'k'"
      ]
     },
     "execution_count": 37,
     "metadata": {},
     "output_type": "execute_result"
    }
   ],
   "source": [
    "next(pw)"
   ]
  },
  {
   "cell_type": "code",
   "execution_count": 38,
   "id": "48ac6f8d-10b1-4e50-b8aa-a1591e4e7d37",
   "metadata": {},
   "outputs": [
    {
     "data": {
      "text/plain": [
       "'i'"
      ]
     },
     "execution_count": 38,
     "metadata": {},
     "output_type": "execute_result"
    }
   ],
   "source": [
    "next(pw)"
   ]
  },
  {
   "cell_type": "code",
   "execution_count": 39,
   "id": "62c7f7b7-9163-4626-8586-3ee19ad73d6b",
   "metadata": {},
   "outputs": [
    {
     "data": {
      "text/plain": [
       "'l'"
      ]
     },
     "execution_count": 39,
     "metadata": {},
     "output_type": "execute_result"
    }
   ],
   "source": [
    "next(pw)"
   ]
  },
  {
   "cell_type": "code",
   "execution_count": 40,
   "id": "391826fe-0a5a-4318-a638-a77143c05915",
   "metadata": {},
   "outputs": [
    {
     "data": {
      "text/plain": [
       "'l'"
      ]
     },
     "execution_count": 40,
     "metadata": {},
     "output_type": "execute_result"
    }
   ],
   "source": [
    "next(pw)"
   ]
  },
  {
   "cell_type": "code",
   "execution_count": 41,
   "id": "7f85ddaf-c93f-4aa9-862b-7d80c7c7c9f7",
   "metadata": {},
   "outputs": [
    {
     "data": {
      "text/plain": [
       "'s'"
      ]
     },
     "execution_count": 41,
     "metadata": {},
     "output_type": "execute_result"
    }
   ],
   "source": [
    "next(pw)"
   ]
  },
  {
   "cell_type": "code",
   "execution_count": 42,
   "id": "d38daaab-af13-4d9d-8fbb-8746e73dc273",
   "metadata": {},
   "outputs": [
    {
     "ename": "StopIteration",
     "evalue": "",
     "output_type": "error",
     "traceback": [
      "\u001b[0;31m---------------------------------------------------------------------------\u001b[0m",
      "\u001b[0;31mStopIteration\u001b[0m                             Traceback (most recent call last)",
      "Cell \u001b[0;32mIn[42], line 1\u001b[0m\n\u001b[0;32m----> 1\u001b[0m \u001b[38;5;28;43mnext\u001b[39;49m\u001b[43m(\u001b[49m\u001b[43mpw\u001b[49m\u001b[43m)\u001b[49m\n",
      "\u001b[0;31mStopIteration\u001b[0m: "
     ]
    }
   ],
   "source": [
    "next(pw)"
   ]
  },
  {
   "cell_type": "code",
   "execution_count": 43,
   "id": "58386c08-eef7-4d82-baaa-34c791797c95",
   "metadata": {},
   "outputs": [],
   "source": [
    "# Answer 8"
   ]
  },
  {
   "cell_type": "code",
   "execution_count": 44,
   "id": "5476c89e-4c98-4ac6-9a34-7d5edd505533",
   "metadata": {},
   "outputs": [
    {
     "name": "stdin",
     "output_type": "stream",
     "text": [
      "enter number 6789876\n"
     ]
    },
    {
     "name": "stdout",
     "output_type": "stream",
     "text": [
      "number is not pallindrome\n"
     ]
    }
   ],
   "source": [
    "    num = int(input(\"enter number\"))\n",
    "    rev = 0\n",
    "    while(num > 0):\n",
    "        dig = num % 10\n",
    "        rev = rev * 10 + dig\n",
    "        num = num // 10\n",
    "    if num == rev:\n",
    "         print(\"number is pallindrome\")\n",
    "    else:\n",
    "        print(\"number is not pallindrome\")\n",
    "        "
   ]
  },
  {
   "cell_type": "code",
   "execution_count": 45,
   "id": "3915aa33-3833-4be2-bc69-2dd1fc0a31fa",
   "metadata": {},
   "outputs": [],
   "source": [
    "# Answer 9"
   ]
  },
  {
   "cell_type": "code",
   "execution_count": 46,
   "id": "c7955de3-7a4e-4af8-ae30-bf7e8325d6fa",
   "metadata": {},
   "outputs": [],
   "source": [
    "l4 = list(range(0,100))"
   ]
  },
  {
   "cell_type": "code",
   "execution_count": 47,
   "id": "df5bc00f-3a2f-4009-ab04-c71eb9cd540d",
   "metadata": {},
   "outputs": [
    {
     "data": {
      "text/plain": [
       "[0,\n",
       " 1,\n",
       " 2,\n",
       " 3,\n",
       " 4,\n",
       " 5,\n",
       " 6,\n",
       " 7,\n",
       " 8,\n",
       " 9,\n",
       " 10,\n",
       " 11,\n",
       " 12,\n",
       " 13,\n",
       " 14,\n",
       " 15,\n",
       " 16,\n",
       " 17,\n",
       " 18,\n",
       " 19,\n",
       " 20,\n",
       " 21,\n",
       " 22,\n",
       " 23,\n",
       " 24,\n",
       " 25,\n",
       " 26,\n",
       " 27,\n",
       " 28,\n",
       " 29,\n",
       " 30,\n",
       " 31,\n",
       " 32,\n",
       " 33,\n",
       " 34,\n",
       " 35,\n",
       " 36,\n",
       " 37,\n",
       " 38,\n",
       " 39,\n",
       " 40,\n",
       " 41,\n",
       " 42,\n",
       " 43,\n",
       " 44,\n",
       " 45,\n",
       " 46,\n",
       " 47,\n",
       " 48,\n",
       " 49,\n",
       " 50,\n",
       " 51,\n",
       " 52,\n",
       " 53,\n",
       " 54,\n",
       " 55,\n",
       " 56,\n",
       " 57,\n",
       " 58,\n",
       " 59,\n",
       " 60,\n",
       " 61,\n",
       " 62,\n",
       " 63,\n",
       " 64,\n",
       " 65,\n",
       " 66,\n",
       " 67,\n",
       " 68,\n",
       " 69,\n",
       " 70,\n",
       " 71,\n",
       " 72,\n",
       " 73,\n",
       " 74,\n",
       " 75,\n",
       " 76,\n",
       " 77,\n",
       " 78,\n",
       " 79,\n",
       " 80,\n",
       " 81,\n",
       " 82,\n",
       " 83,\n",
       " 84,\n",
       " 85,\n",
       " 86,\n",
       " 87,\n",
       " 88,\n",
       " 89,\n",
       " 90,\n",
       " 91,\n",
       " 92,\n",
       " 93,\n",
       " 94,\n",
       " 95,\n",
       " 96,\n",
       " 97,\n",
       " 98,\n",
       " 99]"
      ]
     },
     "execution_count": 47,
     "metadata": {},
     "output_type": "execute_result"
    }
   ],
   "source": [
    "l4"
   ]
  },
  {
   "cell_type": "code",
   "execution_count": 48,
   "id": "95113d41-ad9f-4718-b87f-7083c0b40b2a",
   "metadata": {},
   "outputs": [],
   "source": [
    "def odd_num(n):\n",
    "    l5 = []\n",
    "    for i in n:\n",
    "        if i % 2 != 0:\n",
    "            l5.append(i)\n",
    "    return l5        "
   ]
  },
  {
   "cell_type": "code",
   "execution_count": 49,
   "id": "f0d45f20-a90b-4656-81dd-9de171887512",
   "metadata": {},
   "outputs": [
    {
     "data": {
      "text/plain": [
       "[1,\n",
       " 3,\n",
       " 5,\n",
       " 7,\n",
       " 9,\n",
       " 11,\n",
       " 13,\n",
       " 15,\n",
       " 17,\n",
       " 19,\n",
       " 21,\n",
       " 23,\n",
       " 25,\n",
       " 27,\n",
       " 29,\n",
       " 31,\n",
       " 33,\n",
       " 35,\n",
       " 37,\n",
       " 39,\n",
       " 41,\n",
       " 43,\n",
       " 45,\n",
       " 47,\n",
       " 49,\n",
       " 51,\n",
       " 53,\n",
       " 55,\n",
       " 57,\n",
       " 59,\n",
       " 61,\n",
       " 63,\n",
       " 65,\n",
       " 67,\n",
       " 69,\n",
       " 71,\n",
       " 73,\n",
       " 75,\n",
       " 77,\n",
       " 79,\n",
       " 81,\n",
       " 83,\n",
       " 85,\n",
       " 87,\n",
       " 89,\n",
       " 91,\n",
       " 93,\n",
       " 95,\n",
       " 97,\n",
       " 99]"
      ]
     },
     "execution_count": 49,
     "metadata": {},
     "output_type": "execute_result"
    }
   ],
   "source": [
    "odd_num(l4)"
   ]
  }
 ],
 "metadata": {
  "kernelspec": {
   "display_name": "Python 3 (ipykernel)",
   "language": "python",
   "name": "python3"
  },
  "language_info": {
   "codemirror_mode": {
    "name": "ipython",
    "version": 3
   },
   "file_extension": ".py",
   "mimetype": "text/x-python",
   "name": "python",
   "nbconvert_exporter": "python",
   "pygments_lexer": "ipython3",
   "version": "3.10.8"
  }
 },
 "nbformat": 4,
 "nbformat_minor": 5
}
